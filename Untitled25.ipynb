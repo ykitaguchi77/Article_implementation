{
  "nbformat": 4,
  "nbformat_minor": 0,
  "metadata": {
    "colab": {
      "name": "Untitled25.ipynb",
      "provenance": [],
      "authorship_tag": "ABX9TyPNnwU0lIYtd9+B+rE1NMSq",
      "include_colab_link": true
    },
    "kernelspec": {
      "name": "python3",
      "display_name": "Python 3"
    },
    "language_info": {
      "name": "python"
    }
  },
  "cells": [
    {
      "cell_type": "markdown",
      "metadata": {
        "id": "view-in-github",
        "colab_type": "text"
      },
      "source": [
        "<a href=\"https://colab.research.google.com/github/ykitaguchi77/article_implimentation/blob/main/Untitled25.ipynb\" target=\"_parent\"><img src=\"https://colab.research.google.com/assets/colab-badge.svg\" alt=\"Open In Colab\"/></a>"
      ]
    },
    {
      "cell_type": "markdown",
      "source": [
        "#**3D-UNET**\n",
        "\n",
        "CTの複数画像を立体的にsegmentationする\n",
        "\n",
        "GitHub: https://github.com/wolny/pytorch-3dunet\n",
        "\n",
        "WebPage: https://towardsdatascience.com/creating-and-training-a-u-net-model-with-pytorch-for-2d-3d-semantic-segmentation-model-building-6ab09d6a0862\n"
      ],
      "metadata": {
        "id": "MTShhTbs_oB7"
      }
    },
    {
      "cell_type": "code",
      "execution_count": 1,
      "metadata": {
        "colab": {
          "base_uri": "https://localhost:8080/"
        },
        "id": "is2MH-S2_nae",
        "outputId": "f001f7f2-5599-49c1-a080-7ae5c2dce277"
      },
      "outputs": [
        {
          "output_type": "stream",
          "name": "stdout",
          "text": [
            "Cloning into 'pytorch-3dunet'...\n",
            "remote: Enumerating objects: 2958, done.\u001b[K\n",
            "remote: Total 2958 (delta 0), reused 0 (delta 0), pack-reused 2958\u001b[K\n",
            "Receiving objects: 100% (2958/2958), 298.66 MiB | 31.49 MiB/s, done.\n",
            "Resolving deltas: 100% (1950/1950), done.\n"
          ]
        }
      ],
      "source": [
        "!git clone https://github.com/wolny/pytorch-3dunet.git"
      ]
    },
    {
      "cell_type": "code",
      "source": [
        ""
      ],
      "metadata": {
        "id": "A9Zatw9KAAks"
      },
      "execution_count": null,
      "outputs": []
    }
  ]
}